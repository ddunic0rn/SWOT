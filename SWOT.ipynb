{
  "nbformat": 4,
  "nbformat_minor": 0,
  "metadata": {
    "colab": {
      "name": "SWOT.ipynb",
      "provenance": []
    },
    "kernelspec": {
      "name": "python3",
      "display_name": "Python 3"
    }
  },
  "cells": [
    {
      "cell_type": "code",
      "metadata": {
        "colab": {
          "base_uri": "https://localhost:8080/"
        },
        "id": "WlqJMdIyBEAi",
        "outputId": "1905feea-c4c6-47ce-caf7-c6947583eed6"
      },
      "source": [
        "print (\"Исполнитель: Зайцева Алина Алексеевна 20БИ2\")\r\n",
        "!ln -fs /usr/share/zoneinfo/Europe/Moscow /etc/localtime\r\n",
        "!date"
      ],
      "execution_count": 72,
      "outputs": [
        {
          "output_type": "stream",
          "text": [
            "Исполнитель: Зайцева Алина Алексеевна 20БИ2\n",
            "Tue Mar  2 18:42:41 MSK 2021\n"
          ],
          "name": "stdout"
        }
      ]
    },
    {
      "cell_type": "code",
      "metadata": {
        "colab": {
          "base_uri": "https://localhost:8080/"
        },
        "id": "wKIeKj0nB1dY",
        "outputId": "52f5b5dd-c206-4ddf-da3a-14661b471c58"
      },
      "source": [
        "from google.colab import auth\n",
        "auth.authenticate_user()\n",
        "!pip install --upgrade gspread\n",
        "import gspread\n",
        "from google.colab import drive\n",
        "drive.mount('/content/drive')\n",
        "import os\n",
        "print(os.getcwd())\n",
        "print(os.listdir('./'))\n",
        "print(os.listdir('/content/drive'))\n",
        "print(os.listdir('/content/drive/MyDrive/Colab Notebooks/SWOT'))\n",
        "%ll -lF /content/drive/MyDrive/\"Colab Notebooks\"/SWOT\n",
        "from oauth2client.client import GoogleCredentials\n",
        "gs = gspread.authorize(GoogleCredentials.get_application_default())"
      ],
      "execution_count": 73,
      "outputs": [
        {
          "output_type": "stream",
          "text": [
            "Requirement already up-to-date: gspread in /usr/local/lib/python3.7/dist-packages (3.7.0)\n",
            "Requirement already satisfied, skipping upgrade: google-auth-oauthlib>=0.4.1 in /usr/local/lib/python3.7/dist-packages (from gspread) (0.4.2)\n",
            "Requirement already satisfied, skipping upgrade: google-auth>=1.12.0 in /usr/local/lib/python3.7/dist-packages (from gspread) (1.27.0)\n",
            "Requirement already satisfied, skipping upgrade: requests-oauthlib>=0.7.0 in /usr/local/lib/python3.7/dist-packages (from google-auth-oauthlib>=0.4.1->gspread) (1.3.0)\n",
            "Requirement already satisfied, skipping upgrade: rsa<5,>=3.1.4; python_version >= \"3.6\" in /usr/local/lib/python3.7/dist-packages (from google-auth>=1.12.0->gspread) (4.7.2)\n",
            "Requirement already satisfied, skipping upgrade: pyasn1-modules>=0.2.1 in /usr/local/lib/python3.7/dist-packages (from google-auth>=1.12.0->gspread) (0.2.8)\n",
            "Requirement already satisfied, skipping upgrade: six>=1.9.0 in /usr/local/lib/python3.7/dist-packages (from google-auth>=1.12.0->gspread) (1.15.0)\n",
            "Requirement already satisfied, skipping upgrade: setuptools>=40.3.0 in /usr/local/lib/python3.7/dist-packages (from google-auth>=1.12.0->gspread) (53.0.0)\n",
            "Requirement already satisfied, skipping upgrade: cachetools<5.0,>=2.0.0 in /usr/local/lib/python3.7/dist-packages (from google-auth>=1.12.0->gspread) (4.2.1)\n",
            "Requirement already satisfied, skipping upgrade: requests>=2.0.0 in /usr/local/lib/python3.7/dist-packages (from requests-oauthlib>=0.7.0->google-auth-oauthlib>=0.4.1->gspread) (2.23.0)\n",
            "Requirement already satisfied, skipping upgrade: oauthlib>=3.0.0 in /usr/local/lib/python3.7/dist-packages (from requests-oauthlib>=0.7.0->google-auth-oauthlib>=0.4.1->gspread) (3.1.0)\n",
            "Requirement already satisfied, skipping upgrade: pyasn1>=0.1.3 in /usr/local/lib/python3.7/dist-packages (from rsa<5,>=3.1.4; python_version >= \"3.6\"->google-auth>=1.12.0->gspread) (0.4.8)\n",
            "Requirement already satisfied, skipping upgrade: certifi>=2017.4.17 in /usr/local/lib/python3.7/dist-packages (from requests>=2.0.0->requests-oauthlib>=0.7.0->google-auth-oauthlib>=0.4.1->gspread) (2020.12.5)\n",
            "Requirement already satisfied, skipping upgrade: chardet<4,>=3.0.2 in /usr/local/lib/python3.7/dist-packages (from requests>=2.0.0->requests-oauthlib>=0.7.0->google-auth-oauthlib>=0.4.1->gspread) (3.0.4)\n",
            "Requirement already satisfied, skipping upgrade: idna<3,>=2.5 in /usr/local/lib/python3.7/dist-packages (from requests>=2.0.0->requests-oauthlib>=0.7.0->google-auth-oauthlib>=0.4.1->gspread) (2.10)\n",
            "Requirement already satisfied, skipping upgrade: urllib3!=1.25.0,!=1.25.1,<1.26,>=1.21.1 in /usr/local/lib/python3.7/dist-packages (from requests>=2.0.0->requests-oauthlib>=0.7.0->google-auth-oauthlib>=0.4.1->gspread) (1.24.3)\n",
            "Drive already mounted at /content/drive; to attempt to forcibly remount, call drive.mount(\"/content/drive\", force_remount=True).\n",
            "/content\n",
            "['.config', 'drive', 'adc.json', 'sample_data']\n",
            "['.shortcut-targets-by-id', 'MyDrive', '.file-revisions-by-id', '.Trash']\n",
            "['Копия SWOT_K-pop_cafe.gsheet', 'SWOT_K-pop_cafe.gsheet', 'SWOT.ipynb']\n",
            "total 75\n",
            "-rw------- 1 root 75735 Mar  2 17:58  SWOT.ipynb\n",
            "-rw------- 1 root   151 Mar  2 17:58  SWOT_K-pop_cafe.gsheet\n",
            "-rw------- 1 root   151 Mar  1 16:57 'Копия SWOT_K-pop_cafe.gsheet'\n"
          ],
          "name": "stdout"
        }
      ]
    },
    {
      "cell_type": "code",
      "metadata": {
        "colab": {
          "base_uri": "https://localhost:8080/",
          "height": 703
        },
        "id": "wwCwr7YylLyv",
        "outputId": "050d9d8c-0c4c-49bd-a05f-6ee38d22eec9"
      },
      "source": [
        "import os\r\n",
        "import time\r\n",
        "%ll -lAF /content/drive/MyDrive/\"Colab Notebooks\"/SWOT/\r\n",
        "os.stat('/content/drive/MyDrive/Colab Notebooks/SWOT/SWOT_K-pop_cafe.gsheet')\r\n",
        "table = gs.open_by_key('1U0-PC9CLCQpL07Vl3eoPKF1h1lQKNPuVH05U7MjKuPI')\r\n",
        "worksheet = table.worksheet('Strengths')\r\n",
        "rows = worksheet.get_all_values()\r\n",
        "name = list()\r\n",
        "actions = list()\r\n",
        "importance = list()\r\n",
        "probability = list()\r\n",
        "power = list()\r\n",
        "power_sh = list()\r\n",
        "power_raw = list()\r\n",
        "i=0\r\n",
        "for row in rows:\r\n",
        "  if(i>0):\r\n",
        "    print (i, row)\r\n",
        "    name.append(row[0])\r\n",
        "    actions.append(row[1])\r\n",
        "    importance.append(int(row[2]))\r\n",
        "    probability.append(float(row[3]))\r\n",
        "    power.append(int(row[2])*float(row[3]))\r\n",
        "    power_raw = list()\r\n",
        "    power_raw.append(int(row[2])*float(row[3])) #считается сила\r\n",
        "    power_sh.append(power_raw)\r\n",
        "  i+=1\r\n",
        "worksheet.update('E2:E8', power_sh)\r\n",
        "print('\\n',name, actions, importance, probability, power, sep='\\n', end='\\n\\n')\r\n",
        "strengths_sum = sum(power)\r\n",
        "print('Суммарная сила сильный сторон:', strengths_sum)\r\n",
        "worksheet.update('F1', 'Суммарная сила сильный сторон')\r\n",
        "worksheet.update('F2', strengths_sum)\r\n",
        "\r\n",
        "import matplotlib\r\n",
        "import matplotlib.pyplot as plt\r\n",
        "import numpy as np\r\n",
        "i=0\r\n",
        "labels = list()\r\n",
        "cols = worksheet.col_values(1)\r\n",
        "for col in cols: #добавление значений name\r\n",
        "  if(i>0):\r\n",
        "    labels.append(i)\r\n",
        "  i+=1\r\n",
        "width = 0.4  #ширина колонок\r\n",
        "fig, ax = plt.subplots()\r\n",
        "x = np.arange(len(labels))\r\n",
        "rects = ax.bar(x - width/2, power, width)\r\n",
        "ax.set_ylabel('Мощность воздействия')\r\n",
        "ax.set_title('Сильные стороны')\r\n",
        "ax.set_xticks(x)\r\n",
        "ax.set_xticklabels(labels)\r\n",
        "def autolabel(rects):\r\n",
        "    #Добавление значений над диграммами\r\n",
        "    for rect in rects:\r\n",
        "        height = rect.get_height()\r\n",
        "        ax.annotate('{}'.format(height),\r\n",
        "                    xy=(rect.get_x() + rect.get_width() / 2, height),\r\n",
        "                    xytext=(0, 3), \r\n",
        "                    textcoords=\"offset points\",\r\n",
        "                    ha='center', va='bottom')\r\n",
        "autolabel(rects) #значения над колонками\r\n",
        "fig.tight_layout()\r\n",
        "plt.show()              \r\n",
        "j=0\r\n",
        "for col in cols: #печать обозначений под диаграммой\r\n",
        "  if(j>0):\r\n",
        "    print(j, '-', col)\r\n",
        "  j+=1"
      ],
      "execution_count": 74,
      "outputs": [
        {
          "output_type": "stream",
          "text": [
            "total 75\n",
            "-rw------- 1 root 75735 Mar  2 17:58  SWOT.ipynb\n",
            "-rw------- 1 root   151 Mar  2 17:58  SWOT_K-pop_cafe.gsheet\n",
            "-rw------- 1 root   151 Mar  1 16:57 'Копия SWOT_K-pop_cafe.gsheet'\n",
            "1 ['Оригинальное меню', 'Создать уникальные блюда, которые нельзя попробовать в других кафе', '10', '0.8', '8', '31.8']\n",
            "2 ['Популярность темы кафе', 'Выбрать темой кафе k-pop, так как корейская музыка сейчас очень популярна среди молодежи', '8', '1', '8', '']\n",
            "3 ['Отсутствие конкурентов', 'В Нижнем Новгороде отсутствуют подобные заведения', '9', '0.9', '8.1', '']\n",
            "4 ['Работники кафе', 'Нанять на работу персонал, который будет заинтерисован в теме кафе, и обеспечить его постоянную мотивацию', '7', '0.6', '4.2', '']\n",
            "5 ['Низкий средний чек', 'Установить цены, приемлемые для молодежи', '7', '0.5', '3.5', '']\n",
            "\n",
            "\n",
            "['Оригинальное меню', 'Популярность темы кафе', 'Отсутствие конкурентов', 'Работники кафе', 'Низкий средний чек']\n",
            "['Создать уникальные блюда, которые нельзя попробовать в других кафе', 'Выбрать темой кафе k-pop, так как корейская музыка сейчас очень популярна среди молодежи', 'В Нижнем Новгороде отсутствуют подобные заведения', 'Нанять на работу персонал, который будет заинтерисован в теме кафе, и обеспечить его постоянную мотивацию', 'Установить цены, приемлемые для молодежи']\n",
            "[10, 8, 9, 7, 7]\n",
            "[0.8, 1.0, 0.9, 0.6, 0.5]\n",
            "[8.0, 8.0, 8.1, 4.2, 3.5]\n",
            "\n",
            "Суммарная сила сильный сторон: 31.8\n"
          ],
          "name": "stdout"
        },
        {
          "output_type": "display_data",
          "data": {
            "image/png": "[encoded data removed]",
            "text/plain": [
              "<Figure size 432x288 with 1 Axes>"
            ]
          },
          "metadata": {
            "tags": [],
            "needs_background": "light"
          }
        },
        {
          "output_type": "stream",
          "text": [
            "1 - Оригинальное меню\n",
            "2 - Популярность темы кафе\n",
            "3 - Отсутствие конкурентов\n",
            "4 - Работники кафе\n",
            "5 - Низкий средний чек\n"
          ],
          "name": "stdout"
        }
      ]
    },
    {
      "cell_type": "code",
      "metadata": {
        "id": "cYzsHFL2tamz",
        "colab": {
          "base_uri": "https://localhost:8080/",
          "height": 670
        },
        "outputId": "ed07a5f2-b2bc-4446-f6ce-434869b58c0f"
      },
      "source": [
        "import os\r\n",
        "import time\r\n",
        "%ll -lAF /content/drive/MyDrive/\"Colab Notebooks\"/SWOT/\r\n",
        "os.stat('/content/drive/MyDrive/Colab Notebooks/SWOT/SWOT_K-pop_cafe.gsheet')\r\n",
        "table = gs.open_by_key('1U0-PC9CLCQpL07Vl3eoPKF1h1lQKNPuVH05U7MjKuPI')\r\n",
        "worksheet = table.worksheet('Weaknesses')\r\n",
        "rows = worksheet.get_all_values()\r\n",
        "name = list()\r\n",
        "actions = list()\r\n",
        "importance = list()\r\n",
        "probability = list()\r\n",
        "power = list()\r\n",
        "power_sh = list()\r\n",
        "power_raw = list()\r\n",
        "i=0\r\n",
        "for row in rows:\r\n",
        "  if(i>0):\r\n",
        "    print (i, row)\r\n",
        "    name.append(row[0])\r\n",
        "    actions.append(row[1])\r\n",
        "    importance.append(int(row[2]))\r\n",
        "    probability.append(float(row[3]))\r\n",
        "    power.append(int(row[2])*float(row[3]))\r\n",
        "  i+=1\r\n",
        "worksheet.update('E2:E8', power_sh)\r\n",
        "print('\\n',name, actions, importance, probability, power, sep='\\n', end='\\n\\n')\r\n",
        "weaknesses_sum = sum(power)\r\n",
        "print('Суммарная сила слабых сторон:', weaknesses_sum)\r\n",
        "worksheet.update('F1', 'Суммарная сила слабых сторон') #добавление в таблицу\r\n",
        "worksheet.update('F2', weaknesses_sum)\r\n",
        "\r\n",
        "import matplotlib\r\n",
        "import matplotlib.pyplot as plt\r\n",
        "import numpy as np\r\n",
        "i=0\r\n",
        "labels = list()\r\n",
        "cols = worksheet.col_values(1)\r\n",
        "for col in cols: #добавление значений name\r\n",
        "  if(i>0):\r\n",
        "    labels.append(i)\r\n",
        "  i+=1\r\n",
        "width = 0.4  #ширина колонок\r\n",
        "fig, ax = plt.subplots()\r\n",
        "x = np.arange(len(labels))\r\n",
        "rects = ax.bar(x - width/2, power, width)\r\n",
        "ax.set_ylabel('Мощность воздействия')\r\n",
        "ax.set_title('Слабые стороны')\r\n",
        "ax.set_xticks(x)\r\n",
        "ax.set_xticklabels(labels)\r\n",
        "def autolabel(rects):\r\n",
        "    #Добавление значений над диграммами\r\n",
        "    for rect in rects:\r\n",
        "        height = rect.get_height()\r\n",
        "        ax.annotate('{}'.format(height),\r\n",
        "                    xy=(rect.get_x() + rect.get_width() / 2, height),\r\n",
        "                    xytext=(0, 3), \r\n",
        "                    textcoords=\"offset points\",\r\n",
        "                    ha='center', va='bottom')\r\n",
        "autolabel(rects) #значения над колонками\r\n",
        "fig.tight_layout()\r\n",
        "plt.show()              \r\n",
        "j=0\r\n",
        "for col in cols: #печать обозначений под диаграммой\r\n",
        "  if(j>0):\r\n",
        "    print(j, '-', col)\r\n",
        "  j+=1"
      ],
      "execution_count": 75,
      "outputs": [
        {
          "output_type": "stream",
          "text": [
            "total 75\n",
            "-rw------- 1 root 75735 Mar  2 17:58  SWOT.ipynb\n",
            "-rw------- 1 root   151 Mar  2 17:58  SWOT_K-pop_cafe.gsheet\n",
            "-rw------- 1 root   151 Mar  1 16:57 'Копия SWOT_K-pop_cafe.gsheet'\n",
            "1 ['Недостаток средств для открытия кафе', 'Взять кредит или привлечь инвесторов', '9', '0.9', '8', '18.3']\n",
            "2 ['Еще не сформировавшийся имидж', 'Поводить усиленную рекламную компанию для привлечения посетителей', '7', '0.9', '8', '']\n",
            "3 ['Отсутствия опыта в бизнесе', 'Изучить материалы о бизнесе или привлечь специалиста', '7', '0.5', '8.1', '']\n",
            "4 ['Тема кафе интересна не всем', 'Нейтрализуется популярностью темы кафе среди определенной аудитории', '2', '0.2', '4.2', '']\n",
            "\n",
            "\n",
            "['Недостаток средств для открытия кафе', 'Еще не сформировавшийся имидж', 'Отсутствия опыта в бизнесе', 'Тема кафе интересна не всем']\n",
            "['Взять кредит или привлечь инвесторов', 'Поводить усиленную рекламную компанию для привлечения посетителей', 'Изучить материалы о бизнесе или привлечь специалиста', 'Нейтрализуется популярностью темы кафе среди определенной аудитории']\n",
            "[9, 7, 7, 2]\n",
            "[0.9, 0.9, 0.5, 0.2]\n",
            "[8.1, 6.3, 3.5, 0.4]\n",
            "\n",
            "Суммарная сила слабых сторон: 18.299999999999997\n"
          ],
          "name": "stdout"
        },
        {
          "output_type": "display_data",
          "data": {
            "image/png": "[encoded data removed]",
            "text/plain": [
              "<Figure size 432x288 with 1 Axes>"
            ]
          },
          "metadata": {
            "tags": [],
            "needs_background": "light"
          }
        },
        {
          "output_type": "stream",
          "text": [
            "1 - Недостаток средств для открытия кафе\n",
            "2 - Еще не сформировавшийся имидж\n",
            "3 - Отсутствия опыта в бизнесе\n",
            "4 - Тема кафе интересна не всем\n"
          ],
          "name": "stdout"
        }
      ]
    },
    {
      "cell_type": "code",
      "metadata": {
        "id": "schbG9BOt_6K",
        "colab": {
          "base_uri": "https://localhost:8080/",
          "height": 670
        },
        "outputId": "ff229e6d-79a3-43a0-a271-27b33dbb8bf2"
      },
      "source": [
        "import os\r\n",
        "import time\r\n",
        "%ll -lAF /content/drive/MyDrive/\"Colab Notebooks\"/SWOT/\r\n",
        "os.stat('/content/drive/MyDrive/Colab Notebooks/SWOT/SWOT_K-pop_cafe.gsheet')\r\n",
        "table = gs.open_by_key('1U0-PC9CLCQpL07Vl3eoPKF1h1lQKNPuVH05U7MjKuPI')\r\n",
        "worksheet = table.worksheet('Opportunities')\r\n",
        "rows = worksheet.get_all_values()\r\n",
        "name = list()\r\n",
        "actions = list()\r\n",
        "importance = list()\r\n",
        "probability = list()\r\n",
        "power = list()\r\n",
        "power_sh = list()\r\n",
        "power_raw = list()\r\n",
        "i=0\r\n",
        "for row in rows:\r\n",
        "  if(i>0):\r\n",
        "    print (i, row)\r\n",
        "    name.append(row[0])\r\n",
        "    actions.append(row[1])\r\n",
        "    importance.append(int(row[2]))\r\n",
        "    probability.append(float(row[3]))\r\n",
        "    power.append(int(row[2])*float(row[3]))\r\n",
        "  i+=1\r\n",
        "worksheet.update('E2:E8', power_sh)\r\n",
        "print('\\n',name, actions, importance, probability, power, sep='\\n', end='\\n\\n')\r\n",
        "opportunities_sum = sum(power)\r\n",
        "print('Суммарная сила возможностей:', opportunities_sum)\r\n",
        "worksheet.update('F1', 'Суммарная сила возможностей') #добавление в таблицу\r\n",
        "worksheet.update('F2', opportunities_sum)\r\n",
        "\r\n",
        "import matplotlib\r\n",
        "import matplotlib.pyplot as plt\r\n",
        "import numpy as np\r\n",
        "i=0\r\n",
        "labels = list()\r\n",
        "cols = worksheet.col_values(1)\r\n",
        "for col in cols: #добавление значений name\r\n",
        "  if(i>0):\r\n",
        "    labels.append(i)\r\n",
        "  i+=1\r\n",
        "width = 0.4  #ширина колонок\r\n",
        "fig, ax = plt.subplots()\r\n",
        "x = np.arange(len(labels))\r\n",
        "rects = ax.bar(x - width/2, power, width)\r\n",
        "ax.set_ylabel('Мощность воздействия')\r\n",
        "ax.set_title('Возможности')\r\n",
        "ax.set_xticks(x)\r\n",
        "ax.set_xticklabels(labels)\r\n",
        "def autolabel(rects):\r\n",
        "    #Добавление значений над диграммами\r\n",
        "    for rect in rects:\r\n",
        "        height = rect.get_height()\r\n",
        "        ax.annotate('{}'.format(height),\r\n",
        "                    xy=(rect.get_x() + rect.get_width() / 2, height),\r\n",
        "                    xytext=(0, 3), \r\n",
        "                    textcoords=\"offset points\",\r\n",
        "                    ha='center', va='bottom')\r\n",
        "autolabel(rects) #значения над колонками\r\n",
        "fig.tight_layout()\r\n",
        "plt.show()              \r\n",
        "j=0\r\n",
        "for col in cols: #печать обозначений под диаграммой\r\n",
        "  if(j>0):\r\n",
        "    print(j, '-', col)\r\n",
        "  j+=1"
      ],
      "execution_count": 76,
      "outputs": [
        {
          "output_type": "stream",
          "text": [
            "total 75\n",
            "-rw------- 1 root 75735 Mar  2 17:58  SWOT.ipynb\n",
            "-rw------- 1 root   151 Mar  2 18:42  SWOT_K-pop_cafe.gsheet\n",
            "-rw------- 1 root   151 Mar  1 16:57 'Копия SWOT_K-pop_cafe.gsheet'\n",
            "1 ['Проведение эффективной рекламы', 'Рекламировать кафе в социальных сетях, так как целевая аудитория проводит большего всего времени там', '8', '0.8', '8', '23.2']\n",
            "2 ['Привлечение большего количества посетителей', 'Расширить меню и список услуг кафе', '9', '0.7', '8', '']\n",
            "3 ['Завоевание популярности кафе в городе', 'За счет популярности темы кафе и отсутсвия подобных заведений в Нижнем Новгороде', '9', '0.9', '8.1', '']\n",
            "4 ['Расширение сети кафе', 'Открыть кафе в других частях города и в других городах', '6', '0.4', '4.2', '']\n",
            "\n",
            "\n",
            "['Проведение эффективной рекламы', 'Привлечение большего количества посетителей', 'Завоевание популярности кафе в городе', 'Расширение сети кафе']\n",
            "['Рекламировать кафе в социальных сетях, так как целевая аудитория проводит большего всего времени там', 'Расширить меню и список услуг кафе', 'За счет популярности темы кафе и отсутсвия подобных заведений в Нижнем Новгороде', 'Открыть кафе в других частях города и в других городах']\n",
            "[8, 9, 9, 6]\n",
            "[0.8, 0.7, 0.9, 0.4]\n",
            "[6.4, 6.3, 8.1, 2.4000000000000004]\n",
            "\n",
            "Суммарная сила возможностей: 23.199999999999996\n"
          ],
          "name": "stdout"
        },
        {
          "output_type": "display_data",
          "data": {
            "image/png": "[encoded data removed]",
            "text/plain": [
              "<Figure size 432x288 with 1 Axes>"
            ]
          },
          "metadata": {
            "tags": [],
            "needs_background": "light"
          }
        },
        {
          "output_type": "stream",
          "text": [
            "1 - Проведение эффективной рекламы\n",
            "2 - Привлечение большего количества посетителей\n",
            "3 - Завоевание популярности кафе в городе\n",
            "4 - Расширение сети кафе\n"
          ],
          "name": "stdout"
        }
      ]
    },
    {
      "cell_type": "code",
      "metadata": {
        "id": "n0G-3Vv5uy1T",
        "colab": {
          "base_uri": "https://localhost:8080/",
          "height": 670
        },
        "outputId": "b383c5ce-008f-4eff-d1d6-94fa2ee4c0de"
      },
      "source": [
        "import os\r\n",
        "import time\r\n",
        "%ll -lAF /content/drive/MyDrive/\"Colab Notebooks\"/SWOT/\r\n",
        "os.stat('/content/drive/MyDrive/Colab Notebooks/SWOT/SWOT_K-pop_cafe.gsheet')\r\n",
        "table = gs.open_by_key('1U0-PC9CLCQpL07Vl3eoPKF1h1lQKNPuVH05U7MjKuPI')\r\n",
        "worksheet = table.worksheet('Threats')\r\n",
        "rows = worksheet.get_all_values()\r\n",
        "name = list()\r\n",
        "actions = list()\r\n",
        "importance = list()\r\n",
        "probability = list()\r\n",
        "power = list()\r\n",
        "power_sh = list()\r\n",
        "power_raw = list()\r\n",
        "i=0\r\n",
        "for row in rows:\r\n",
        "  if(i>0):\r\n",
        "    print (i, row)\r\n",
        "    name.append(row[0])\r\n",
        "    actions.append(row[1])\r\n",
        "    importance.append(int(row[2]))\r\n",
        "    probability.append(float(row[3]))\r\n",
        "    power.append(int(row[2])*float(row[3]))\r\n",
        "  i+=1\r\n",
        "worksheet.update('E2:E8', power_sh)\r\n",
        "print('\\n',name, actions, importance, probability, power, sep='\\n', end='\\n\\n')\r\n",
        "threats_sum = sum(power)\r\n",
        "print('Суммарная сила угроз:', threats_sum)\r\n",
        "worksheet.update('F1', 'Суммарная сила угроз') #добавление в таблицу\r\n",
        "worksheet.update('F2', threats_sum)\r\n",
        "\r\n",
        "import matplotlib\r\n",
        "import matplotlib.pyplot as plt\r\n",
        "import numpy as np\r\n",
        "i=0\r\n",
        "labels = list()\r\n",
        "cols = worksheet.col_values(1)\r\n",
        "for col in cols: #добавление значений name\r\n",
        "  if(i>0):\r\n",
        "    labels.append(i)\r\n",
        "  i+=1\r\n",
        "width = 0.4  #ширина колонок\r\n",
        "fig, ax = plt.subplots()\r\n",
        "x = np.arange(len(labels))\r\n",
        "rects = ax.bar(x - width/2, power, width)\r\n",
        "ax.set_ylabel('Мощность воздействия')\r\n",
        "ax.set_title('Угрозы')\r\n",
        "ax.set_xticks(x)\r\n",
        "ax.set_xticklabels(labels)\r\n",
        "def autolabel(rects):\r\n",
        "    #Добавление значений над диграммами\r\n",
        "    for rect in rects:\r\n",
        "        height = rect.get_height()\r\n",
        "        ax.annotate('{}'.format(height),\r\n",
        "                    xy=(rect.get_x() + rect.get_width() / 2, height),\r\n",
        "                    xytext=(0, 3), \r\n",
        "                    textcoords=\"offset points\",\r\n",
        "                    ha='center', va='bottom')\r\n",
        "autolabel(rects) #значения над колонками\r\n",
        "fig.tight_layout()\r\n",
        "plt.show()              \r\n",
        "j=0\r\n",
        "for col in cols: #печать обозначений под диаграммой\r\n",
        "  if(j>0):\r\n",
        "    print(j, '-', col)\r\n",
        "  j+=1"
      ],
      "execution_count": 77,
      "outputs": [
        {
          "output_type": "stream",
          "text": [
            "total 75\n",
            "-rw------- 1 root 75735 Mar  2 17:58  SWOT.ipynb\n",
            "-rw------- 1 root   151 Mar  2 18:42  SWOT_K-pop_cafe.gsheet\n",
            "-rw------- 1 root   151 Mar  1 16:57 'Копия SWOT_K-pop_cafe.gsheet'\n",
            "1 ['Измнение вкусов клиентов (тема кафе может стать немодной)', 'Создание условий для смены темы кафе, при минимальных затратах', '8', '0.5', '8', '19.1']\n",
            "2 ['Появление конкурентов', 'Постоянное обновление меню и списка услуг кафе, чтобы иметь конкурентное преимущество', '8', '0.9', '8', '']\n",
            "3 ['Рыночная власть потребителей', 'Услуга уникальна', '7', '0.1', '8.1', '']\n",
            "4 ['Экономическая нестабильность в стране', 'Создание возможности для снижения цен в кафе', '8', '0.9', '4.2', '']\n",
            "\n",
            "\n",
            "['Измнение вкусов клиентов (тема кафе может стать немодной)', 'Появление конкурентов', 'Рыночная власть потребителей', 'Экономическая нестабильность в стране']\n",
            "['Создание условий для смены темы кафе, при минимальных затратах', 'Постоянное обновление меню и списка услуг кафе, чтобы иметь конкурентное преимущество', 'Услуга уникальна', 'Создание возможности для снижения цен в кафе']\n",
            "[8, 8, 7, 8]\n",
            "[0.5, 0.9, 0.1, 0.9]\n",
            "[4.0, 7.2, 0.7000000000000001, 7.2]\n",
            "\n",
            "Суммарная сила угроз: 19.099999999999998\n"
          ],
          "name": "stdout"
        },
        {
          "output_type": "display_data",
          "data": {
            "image/png": "[encoded data removed]",
            "text/plain": [
              "<Figure size 432x288 with 1 Axes>"
            ]
          },
          "metadata": {
            "tags": [],
            "needs_background": "light"
          }
        },
        {
          "output_type": "stream",
          "text": [
            "1 - Измнение вкусов клиентов (тема кафе может стать немодной)\n",
            "2 - Появление конкурентов\n",
            "3 - Рыночная власть потребителей\n",
            "4 - Экономическая нестабильность в стране\n"
          ],
          "name": "stdout"
        }
      ]
    },
    {
      "cell_type": "code",
      "metadata": {
        "id": "N_3LaSxc2fgO",
        "colab": {
          "base_uri": "https://localhost:8080/",
          "height": 514
        },
        "outputId": "97e06b3a-38ce-4ac0-bee4-0b5d56cb8732"
      },
      "source": [
        "#копирование значений силы из листов\r\n",
        "worksheet = table.worksheet('Strengths')\r\n",
        "strengths_power = worksheet.acell('F2').value\r\n",
        "worksheet = table.worksheet('Weaknesses')\r\n",
        "weaknesses_power = worksheet.acell('F2').value\r\n",
        "worksheet = table.worksheet('Opportunities')\r\n",
        "opportunities_power = worksheet.acell('F2').value\r\n",
        "worksheet = table.worksheet('Threats')\r\n",
        "threats_power = worksheet.acell('F2').value\r\n",
        "#добавление в таблицу result\r\n",
        "worksheet = table.worksheet('Result')\r\n",
        "worksheet.update('A1', 'Суммарная сила сильных сторон')\r\n",
        "worksheet.update('A2', strengths_power)\r\n",
        "worksheet.update('B1', 'Суммарная сила слабых сторон') \r\n",
        "worksheet.update('B2', weaknesses_power)\r\n",
        "worksheet.update('A4', 'Суммарная сила возможностей') \r\n",
        "worksheet.update('A5', opportunities_power)\r\n",
        "worksheet.update('B4', 'Суммарная сила угроз') \r\n",
        "worksheet.update('B5', threats_power)\r\n",
        "#подсчет результата анализа и добавление его в таблицу\r\n",
        "result = float(strengths_power) - 1*float(weaknesses_power) + float(opportunities_power) - 1*float(threats_power)\r\n",
        "print('Результат:', result)\r\n",
        "worksheet = table.worksheet('Result')\r\n",
        "worksheet.update('A7', 'Результат')\r\n",
        "worksheet.update('A8', result)\r\n",
        "#создание графика\r\n",
        "def matplot(element):\r\n",
        "    import matplotlib.pyplot as plt\r\n",
        "    x=list()\r\n",
        "    x_float=list()\r\n",
        "    title=list()\r\n",
        "    y_float=list()\r\n",
        "x_float = [1, 2, 3, 4, 5]\r\n",
        "y_float = [float(strengths_power), -1*float(weaknesses_power), float(opportunities_power), -1*float(threats_power),  result]\r\n",
        "title = [ \"Сильные стороны\", \"Слабые стороны\", \"Возможности\", \"Угорозы\", \"Результат\"]\r\n",
        "x_pos=list()\r\n",
        "i=0\r\n",
        "for i in range(x_float.__len__()):\r\n",
        "  x_pos.append(i)\r\n",
        "\r\n",
        "fig=plt.figure(figsize=(8,6), dpi=72)\r\n",
        "plt.bar(x_pos, y_float, width=0.75, align='edge', alpha=0.4)\r\n",
        "plt.xticks(x_pos,  x_float, fontsize=14)\r\n",
        "plt.xlabel('Обозначения', fontsize=14)\r\n",
        "plt.ylabel('Мощность воздействия', fontsize=14)\r\n",
        "plt.title('SWOT', fontsize=14)\r\n",
        "plt.grid(True, color='r', linestyle='-', linewidth=2)\r\n",
        "plt.show()\r\n",
        "#печать заголовков\r\n",
        "for i in range(title.__len__()):\r\n",
        "  print(i+1, \" - \", title[i])\r\n",
        "  i += 1"
      ],
      "execution_count": 78,
      "outputs": [
        {
          "output_type": "stream",
          "text": [
            "Результат: 17.6\n"
          ],
          "name": "stdout"
        },
        {
          "output_type": "display_data",
          "data": {
            "image/png": "[encoded data removed]",
            "text/plain": [
              "<Figure size 576x432 with 1 Axes>"
            ]
          },
          "metadata": {
            "tags": [],
            "needs_background": "light"
          }
        },
        {
          "output_type": "stream",
          "text": [
            "1  -  Сильные стороны\n",
            "2  -  Слабые стороны\n",
            "3  -  Возможности\n",
            "4  -  Угорозы\n",
            "5  -  Результат\n"
          ],
          "name": "stdout"
        }
      ]
    }
  ]
}